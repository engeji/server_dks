{
 "cells": [
  {
   "cell_type": "code",
   "execution_count": 1,
   "metadata": {},
   "outputs": [],
   "source": [
    "from spch_module.mode import Mode\n",
    "from spch_module.facilities import get_comp_by_name, get_summ_collections\n",
    "mode = Mode(283, [20, 20.55], 8)\n",
    "comp = get_comp_by_name([\n",
    "        'ГПА-ц3-16С-45-1.7(ККМ)',\n",
    "        'ГПА Ц3 16с76-1.7М'\n",
    "    ],[1,1])\n",
    "stage = comp[0]"
   ]
  },
  {
   "cell_type": "code",
   "execution_count": 2,
   "metadata": {},
   "outputs": [
    {
     "name": "stdout",
     "output_type": "stream",
     "text": [
      "\n",
      "Комер. расх. |Т.вх |Давл. (треб) |Давл. вых(треб) |Давл. вх | Тип СПЧ  |Частота |Мощность |Ст. сжатия |ГПА |Т.вых |Помп. удал |Об. расход |Пол. кпд \n",
      " млн. м3/сут |  К  |     МПа     |       МПа      |   МПа   |          | об/мин |   кВт   |   д. ед.  | шт |   С  |   д. ед   |   м3/мин  |  д. ед  \n",
      " 20.00+20.55 | 283 |    8.00     |      8.00      |  7.36   |16/45-1.7 |  1831  |  2000   |   1.09    | 1  |  3   |    23     |    156    |  0.80   \n",
      " 20.00+20.55 | 283 |    8.00     |      8.00      |  6.83   |16/45-1.7 |  2540  |  4000   |   1.17    | 1  |  17  |     6     |    170    |  0.78   \n",
      " 20.00+20.55 | 283 |    8.00     |      8.00      |  6.35   |16/45-1.7 |  3106  |  6000   |   1.26    | 1  |  24  |    -0     |    185    |  0.78   \n",
      " 20.00+20.55 | 283 |    8.00     |      8.00      |  5.92   |16/45-1.7 |  3590  |  8000   |   1.35    | 1  |  31  |    -4     |    201    |  0.78   \n",
      " 20.00+20.55 | 283 |    8.00     |      8.00      |  5.53   |16/45-1.7 |  4016  |  10000  |   1.45    | 1  |  37  |    -6     |    217    |  0.78   \n",
      " 20.00+20.55 | 283 |    8.00     |      8.00      |  5.18   |16/45-1.7 |  4401  |  12000  |   1.54    | 1  |  43  |    -6     |    234    |  0.78   \n",
      " 20.00+20.55 | 283 |    8.00     |      8.00      |  4.86   |16/45-1.7 |  4755  |  14000  |   1.65    | 1  |  49  |    -7     |    251    |  0.78   \n",
      " 20.00+20.55 | 283 |    8.00     |      8.00      |  4.57   |16/45-1.7 |  5083  |  16000  |   1.75    | 1  |  55  |    -7     |    269    |  0.78   \n",
      " 20.00+20.55 | 283 |    8.00     |      8.00      |  4.30   |16/45-1.7 |  5390  |  18000  |   1.86    | 1  |  62  |    -6     |    288    |  0.78   \n",
      " 20.00+20.55 | 283 |    8.00     |      8.00      |  4.06   |16/45-1.7 |  5680  |  20000  |   1.97    | 1  |  68  |    -6     |    307    |  0.78   \n",
      "proc -0.4293596239752777\n",
      "freq 3106.4551192954486\n"
     ]
    }
   ],
   "source": [
    "from spch_module.formulas import my_z\n",
    "from scipy.optimize import root, root_scalar\n",
    "import numpy as np\n",
    "from spch_module.stage import Stage\n",
    "def get_perc_by_mght(self:Stage, mode:Mode, mght:float):\n",
    "    q_in = mode.q_in[self.idx] / self.w_cnt_current\n",
    "    mas_rate =  q_in * self.lim.plot_std * (10**6) / 24 / 60 / 60\n",
    "    def fun_p_in(kpd, z_in):\n",
    "    # mght = cur_dh * mas_rate / kpd / (10**3)\n",
    "        cur_dh = mght / mas_rate * kpd * (10**3)\n",
    "        m_t =  (self.lim.k_val - 1) / (self.lim.k_val * kpd)\n",
    "        comp_degree = (cur_dh * m_t / (z_in * self.lim.r_val * mode.t_in) + 1) ** (1 / m_t)\n",
    "        return mode.p_input / comp_degree\n",
    "    def func(x):\n",
    "        freq, kpd, p_in = x\n",
    "        z_in = my_z(p_in, mode.t_in)\n",
    "        cur_p_in = fun_p_in(kpd, z_in)\n",
    "        koef_raskh = self.type_spch.koef_raskh(q_in, cur_p_in, freq, mode.t_in, self.lim.r_val, self.lim.plot_std)\n",
    "        cur_kpd = self.type_spch.calc_k_kpd(koef_raskh)\n",
    "        koef_nap = self.type_spch.calc_k_nap(koef_raskh)\n",
    "        u2_vel = (self.type_spch.vel(freq)/60)**2\n",
    "        return [\n",
    "            koef_nap * u2_vel - mght / mas_rate * kpd * (10**3),\n",
    "            cur_kpd - kpd,\n",
    "            cur_p_in - p_in\n",
    "        ]\n",
    "    x0_val = [self.type_spch.fnom, .8, self.type_spch.p_in]\n",
    "    sol = root(fun=func, x0=x0_val)\n",
    "    freq, kpd, p_in = sol.x\n",
    "    curr_mode = mode.clone()\n",
    "    curr_mode.p_input = fun_p_in(kpd, my_z(p_in, mode.t_in))\n",
    "    summ = self.calc_stage_summary_in(curr_mode, freq)\n",
    "    return summ\n",
    "summs = [\n",
    "    get_perc_by_mght(stage, mode, mght * 1000)\n",
    "for mght in np.linspace(2,20,10)]\n",
    "print(get_summ_collections([mode] * len(summs), summs))\n",
    "# stage.show_plt(mode.t_in, 1.1, .5, summs)\n",
    "print(f'proc {summs[2].percent_x}')\n",
    "print(f'freq {summs[2].freq}')"
   ]
  },
  {
   "cell_type": "code",
   "execution_count": 3,
   "metadata": {},
   "outputs": [
    {
     "data": {
      "text/plain": [
       "\n",
       "Комер. расх. |Т.вх |Давл. (треб) |Давл. вых(треб) |Давл. вх | Тип СПЧ  |Частота |Мощность |Ст. сжатия |ГПА |Т.вых |Помп. удал |Об. расход |Пол. кпд \n",
       " млн. м3/сут |  К  |     МПа     |       МПа      |   МПа   |          | об/мин |   кВт   |   д. ед.  | шт |   С  |   д. ед   |   м3/мин  |  д. ед  \n",
       " 20.00+20.55 | 283 |    6.40     |      8.00      |  6.40   |16/45-1.7 |  3060  |  5822   |   1.25    | 1  |  24  |    -0     |    184    |  0.78   "
      ]
     },
     "execution_count": 3,
     "metadata": {},
     "output_type": "execute_result"
    }
   ],
   "source": [
    "from spch_module.formulas import dh\n",
    "from spch_module.stage import Stage\n",
    "from spch_module.mode import Mode\n",
    "import matplotlib.pyplot as plt\n",
    "def get_mght(self:Stage, mode:Mode, percent_x:float):\n",
    "    koef_raskh = self.type_spch.koef_raskh_by_percent_x(percent_x)\n",
    "    kpd = self.type_spch.calc_k_kpd(koef_raskh)\n",
    "    koef_nap = self.type_spch.calc_k_nap(koef_raskh)\n",
    "    q_in = mode.q_in[self.idx] / self.w_cnt_current\n",
    "    mas_rate =  q_in * self.lim.plot_std * (10**6) / 24 / 60 / 60\n",
    "    def mght_by_freq(freq):\n",
    "        p_in = self.get_p_in_by_freq_and_perc_on_mode(mode, freq, percent_x)\n",
    "        comp_degree = mode.p_input / p_in\n",
    "        z_in = my_z(p_in, mode.t_in)\n",
    "        cur_dh = dh(comp_degree, z_in, mode.t_in, self.lim.r_val, self.lim.k_val, kpd)\n",
    "        mght = cur_dh * mas_rate / kpd / (10**3)\n",
    "        return mght\n",
    "    def func(freq):\n",
    "        u_val = self.type_spch.vel(freq) / 60\n",
    "        cur_dh = koef_nap * (u_val**2)\n",
    "        return cur_dh * mas_rate / kpd / (10**3) - mght_by_freq(freq)\n",
    "\n",
    "    x0_val = self.type_spch.fnom*.5\n",
    "    sol = root_scalar(f=func, x0=x0_val, x1=x0_val*2, method='secant')\n",
    "    freq = sol.root\n",
    "    curr_mode = mode.clone()\n",
    "    curr_mode.p_input = self.get_p_in_by_freq_and_perc_on_mode(mode, freq, percent_x)\n",
    "    summ = self.calc_stage_summary_in(curr_mode, freq)\n",
    "    return get_summ_collections([curr_mode], [summ])\n",
    "        \n",
    "get_mght(stage, mode, 0)\n"
   ]
  },
  {
   "cell_type": "code",
   "execution_count": 4,
   "metadata": {},
   "outputs": [
    {
     "name": "stdout",
     "output_type": "stream",
     "text": [
      "\n",
      "Комер. расх. |Т.вх |Давл. (треб) |Давл. вых(треб) |Давл. вх | Тип СПЧ  |Частота |Мощность |Ст. сжатия |ГПА |Т.вых |Помп. удал |Об. расход |Пол. кпд \n",
      " млн. м3/сут |  К  |     МПа     |       МПа      |   МПа   |          | об/мин |   кВт   |   д. ед.  | шт |   С  |   д. ед   |   м3/мин  |  д. ед  \n",
      " 20.00+20.55 | 283 |    4.71     |      8.00      |  4.71   |16/45-1.7 |  4925  |  15020  |   1.70    | 1  |  52  |    -7     |    260    |  0.78   \n"
     ]
    },
    {
     "data": {
      "image/png": "[encoded data removed]",
      "text/plain": [
       "<Figure size 432x288 with 1 Axes>"
      ]
     },
     "metadata": {
      "needs_background": "light"
     },
     "output_type": "display_data"
    }
   ],
   "source": [
    "from spch_module.summary import StageSummary\n",
    "from spch_module.stage import Stage\n",
    "from spch_module.mode import Mode\n",
    "from scipy.optimize import root_scalar\n",
    "import matplotlib.pyplot as plt\n",
    "fix, ax = plt.subplots()\n",
    "stage = comp[0]\n",
    "def get_perc_by_comp(self:Stage, mode:Mode, comp_degree:float)->StageSummary:\n",
    "    p_in = mode.p_input / comp_degree\n",
    "    q_in = mode.q_in[self.idx] / self.w_cnt_current\n",
    "    z_in = my_z(p_in, mode.t_in)\n",
    "    def func(freq):\n",
    "        koef_raskh = self.type_spch.koef_raskh(q_in, p_in, freq, mode.t_in, self.lim.r_val, self.lim.plot_std)\n",
    "        koef_nap = self.type_spch.calc_k_nap(koef_raskh)\n",
    "        kpd = self.type_spch.calc_k_kpd(koef_raskh)\n",
    "        u2_val = (self.type_spch.vel(freq)/ 60) ** 2 \n",
    "        cur_dh = koef_nap * u2_val\n",
    "        m_t =  (self.lim.k_val - 1) / (self.lim.k_val * kpd)\n",
    "        cur_comp_degree = (cur_dh * m_t / (z_in * self.lim.r_val * mode.t_in) + 1) ** (1 / m_t)\n",
    "        return comp_degree - cur_comp_degree\n",
    "    # x_arr, y_arr = zip(*[\n",
    "    #     (freq, func(freq))\n",
    "    # for freq in np.linspace(1000, 10000 ,10)])\n",
    "    # ax.plot(x_arr, y_arr)\n",
    "\n",
    "    x0_val = self.type_spch.fnom\n",
    "    sol = root_scalar(f=func, x0=x0_val, x1=x0_val*1.01)\n",
    "    # print(sol)\n",
    "    curr_mode = mode.clone()\n",
    "    curr_mode.p_input = p_in\n",
    "    summ = self.calc_stage_summary_in(curr_mode, sol.root)\n",
    "    return get_summ_collections([curr_mode], [summ])\n",
    "print(get_perc_by_comp(stage, mode, 1.7))"
   ]
  },
  {
   "cell_type": "code",
   "execution_count": 5,
   "metadata": {},
   "outputs": [
    {
     "name": "stdout",
     "output_type": "stream",
     "text": [
      "\n",
      "Комер. расх. |Т.вх |Давл. (треб) |Давл. вых(треб) |Давл. вх | Тип СПЧ  |Частота |Мощность |Ст. сжатия |ГПА |Т.вых |Помп. удал |Об. расход |Пол. кпд \n",
      " млн. м3/сут |  К  |     МПа     |       МПа      |   МПа   |          | об/мин |   кВт   |   д. ед.  | шт |   С  |   д. ед   |   м3/мин  |  д. ед  \n",
      " 20.00+20.55 | 283 |    6.40     |      8.00      |  6.40   |16/45-1.7 |  3050  |  5782   |   1.25    | 1  |  24  |     0     |    184    |  0.78   \n"
     ]
    }
   ],
   "source": [
    "def get_comp_by_perc(self:Stage, mode:Mode, percent_x:float)->StageSummary:\n",
    "    koef_raskh = self.type_spch.koef_raskh_by_percent_x(percent_x)\n",
    "    kpd = self.type_spch.calc_k_kpd(koef_raskh)\n",
    "    koef_nap = self.type_spch.calc_k_nap(koef_raskh)\n",
    "    q_in = mode.q_in[self.idx] / self.w_cnt_current\n",
    "    mas_rate =  q_in * self.lim.plot_std * (10**6) / 24 / 60 / 60\n",
    "    def comp_by_freq(freq):\n",
    "        p_in = self.get_p_in_by_freq_and_perc_on_mode(mode, freq, percent_x)\n",
    "        comp_degree = mode.p_input / p_in\n",
    "        return comp_degree, p_in\n",
    "    def func(freq):\n",
    "        u_val = self.type_spch.vel(freq) / 60\n",
    "        cur_dh = koef_nap * (u_val**2)\n",
    "        comp_by_freq_val, p_in =  comp_by_freq(freq)\n",
    "        z_in = my_z(p_in, mode.t_in)\n",
    "        m_t =  (self.lim.k_val - 1) / (self.lim.k_val * kpd)\n",
    "        cur_comp_degree = (cur_dh * m_t / (z_in * self.lim.r_val * mode.t_in) + 1) ** (1 / m_t)\n",
    "        return cur_comp_degree - comp_by_freq_val\n",
    "\n",
    "    x0_val = self.type_spch.fnom*.5\n",
    "    sol = root_scalar(f=func, x0=x0_val, x1=x0_val*2, method='secant')\n",
    "    freq = sol.root\n",
    "    curr_mode = mode.clone()\n",
    "    curr_mode.p_input = self.get_p_in_by_freq_and_perc_on_mode(mode, freq, percent_x)\n",
    "    summ = self.calc_stage_summary_in(curr_mode, freq)\n",
    "    return get_summ_collections([curr_mode], [summ])\n",
    "\n",
    "print(get_comp_by_perc(stage, mode, 0.1))"
   ]
  },
  {
   "cell_type": "code",
   "execution_count": 16,
   "metadata": {},
   "outputs": [
    {
     "name": "stdout",
     "output_type": "stream",
     "text": [
      "None\n",
      "\n",
      "Комер. расх. |Т.вх |Давл. (треб) |Давл. вых(треб) |Давл. вх | Тип СПЧ  |Частота |Мощность |Ст. сжатия |ГПА |Т.вых |Помп. удал |Об. расход |Пол. кпд \n",
      " млн. м3/сут |  К  |     МПа     |       МПа      |   МПа   |          | об/мин |   кВт   |   д. ед.  | шт |   С  |   д. ед   |   м3/мин  |  д. ед  \n",
      " 20.00+20.55 | 283 |    8.00     |      8.00      |  6.00   |16/76-1.7 |  3640  |  7641   |   1.33    | 1  |  17  |    45     |    214    |  0.84   \n",
      " 20.00+20.55 | 283 |    8.00     |      8.00      |  4.13   |16/76-1.7 |  5720  |  19314  |   1.94    | 1  |  55  |    42     |    323    |  0.84   \n"
     ]
    },
    {
     "data": {
      "image/png": "[encoded data removed]",
      "text/plain": [
       "<Figure size 432x288 with 1 Axes>"
      ]
     },
     "metadata": {
      "needs_background": "light"
     },
     "output_type": "display_data"
    }
   ],
   "source": [
    "import matplotlib.pyplot as plt\n",
    "_, ax = plt.subplots()\n",
    "stage = comp[-1]\n",
    "def get_freq_dim_by_perc(self:Stage, mode:Mode, percent_x:float):\n",
    "    koef_raskh = self.type_spch.koef_raskh_by_percent_x(percent_x)\n",
    "    self.type_spch.get_volume_rate_by_freq_and_perc\n",
    "    kpd = self.type_spch.calc_k_kpd(koef_raskh)\n",
    "    koef_nap = self.type_spch.calc_k_nap(koef_raskh)\n",
    "    q_in = mode.q_in[self.idx] / self.w_cnt_current\n",
    "    mas_rate =  q_in * self.lim.plot_std * (10**6) / 24 / 60 / 60\n",
    "    def func(freq):\n",
    "        cur_mode = mode.clone()\n",
    "        cur_mode.p_input = self.get_p_in_by_freq_and_perc_on_mode(mode, freq, percent_x)\n",
    "        summ = self.calc_stage_summary_in(cur_mode, freq)\n",
    "        return summ.p_out_req - mode.p_input\n",
    "    x0_val = self.type_spch.fnom\n",
    "    bracket = [.3*x0_val,1.3*x0_val]\n",
    "    try:\n",
    "        sol = root_scalar(f=func, x0=x0_val, x1=x0_val * 1.001, bracket=bracket, method='brentq')\n",
    "        cur_mode = mode.clone()\n",
    "        cur_mode.p_input = self.get_p_in_by_freq_and_perc_on_mode(mode, sol.root, percent_x)\n",
    "        summ = self.calc_stage_summary_in(cur_mode, sol.root)\n",
    "        return summ\n",
    "    except ValueError:\n",
    "        return None\n",
    "\n",
    "summ = get_freq_dim_by_perc(stage, mode, 0) \n",
    "print(summ)\n",
    "summs = (\n",
    "    stage.calc_stage_summary_out(mode, stage.type_spch.fnom * .7),\n",
    "    stage.calc_stage_summary_out(mode, stage.type_spch.fnom * 1.1),\n",
    ")\n",
    "\n",
    "print(get_summ_collections([mode]*2, summs))"
   ]
  }
 ],
 "metadata": {
  "interpreter": {
   "hash": "54a14c5af1d7f80f6599ff6bab26dda1eb5e316739fdd5e897c4b75ada3846dc"
  },
  "kernelspec": {
   "display_name": "Python 3.8.1 ('venv': venv)",
   "language": "python",
   "name": "python3"
  },
  "language_info": {
   "codemirror_mode": {
    "name": "ipython",
    "version": 3
   },
   "file_extension": ".py",
   "mimetype": "text/x-python",
   "name": "python",
   "nbconvert_exporter": "python",
   "pygments_lexer": "ipython3",
   "version": "3.8.1"
  },
  "orig_nbformat": 4
 },
 "nbformat": 4,
 "nbformat_minor": 2
}
