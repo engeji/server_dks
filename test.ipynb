{
 "metadata": {
  "language_info": {
   "codemirror_mode": {
    "name": "ipython",
    "version": 3
   },
   "file_extension": ".py",
   "mimetype": "text/x-python",
   "name": "python",
   "nbconvert_exporter": "python",
   "pygments_lexer": "ipython3",
   "version": "3.8.1-final"
  },
  "orig_nbformat": 2,
  "kernelspec": {
   "name": "python381jvsc74a57bd0e7cd2087b0006148a812477e86ff96270bc89a5f151ed72c31caea120b917c7b",
   "display_name": "Python 3.8.1 64-bit ('venv')"
  }
 },
 "nbformat": 4,
 "nbformat_minor": 2,
 "cells": [
  {
   "source": [
    "from spch_module.facilities import get_comp_by_name, get_summ_collections\n",
    "from spch_module.mode import Mode\n",
    "from spch_module.weight import Border, Weight,DEFAULT_BORDER\n",
    "\n",
    "import numpy as np\n",
    "mode = Mode(283, [20,20.55], 8.)\n",
    "comp = get_comp_by_name(\n",
    "    [\n",
    "        'ГПА-ц3-16С-45-1.7(ККМ)',\n",
    "        'ГПА Ц3 16с76-1.7М'],\n",
    "    [1,1])\n",
    "stage1 = comp[-1]\n",
    "stage1\n",
    "\n",
    "# sums = [stage1.calc_stage_summary_out(mode,freq) for freq in np.linspace(f_min, f_max, 10)]\n",
    "# get_summ_collections([mode]*20, sums, [border])"
   ],
   "cell_type": "code",
   "metadata": {},
   "execution_count": 3,
   "outputs": [
    {
     "output_type": "execute_result",
     "data": {
      "text/plain": [
       "Stage(type_spch=ГПА16-76 1.7, w_cnt=1, lim=Limit(r_val=500.8, k_val=1.31, plot_std=0.692, t_avo=293, dp_avo=0.06), idx=1, _w_cnt_current=None)"
      ]
     },
     "metadata": {},
     "execution_count": 3
    }
   ]
  },
  {
   "cell_type": "code",
   "execution_count": 23,
   "metadata": {},
   "outputs": [
    {
     "output_type": "stream",
     "name": "stdout",
     "text": [
      "1.7511044941849598\n1.4073170798659616\n"
     ]
    }
   ],
   "source": [
    "border = Border([\n",
    "    Weight(16000, 7000, 100, 'mght', .1),\n",
    "])\n",
    "from spch_module.spch import Spch\n",
    "self_obj = comp[0].type_spch\n",
    "from spch_module.limit import DEFAULT_LIMIT, Limit\n",
    "def get_freq_by_mght(self:Spch, percent_x:float,mght:float,lim:Limit)->float:\n",
    "    koef_raskh = self.koef_raskh_by_percent_x(percent_x)\n",
    "    koef_nap = self.calc_k_nap(koef_raskh)\n",
    "    kpd_val = self.calc_k_kpd(koef_raskh)\n",
    "    # mght = dh_val * mas_rate / kpd / (10**3)\n",
    "    mas_rate = mode.q_in[0] * (10**6) / 24 / 60 / 60 * lim.plot_std\n",
    "    dh_cur = mght / mas_rate * kpd_val * (10**3)\n",
    "    z_in = .9\n",
    "    \n",
    "    m_t =  (lim.k_val - 1) / (lim.k_val * kpd_val)\n",
    "    comp_degree = (dh_cur * m_t / (z_in * lim.r_val * mode.t_in) + 1) ** (1 / m_t)    \n",
    "    return comp_degree\n",
    "print(get_freq_by_mght(self_obj, 1, 16000, DEFAULT_LIMIT))\n",
    "print(get_freq_by_mght(self_obj, 100, 16000, DEFAULT_LIMIT))\n",
    "\n"
   ]
  }
 ]
}