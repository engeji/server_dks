{
 "metadata": {
  "language_info": {
   "codemirror_mode": {
    "name": "ipython",
    "version": 3
   },
   "file_extension": ".py",
   "mimetype": "text/x-python",
   "name": "python",
   "nbconvert_exporter": "python",
   "pygments_lexer": "ipython3",
   "version": "3.8.1-final"
  },
  "orig_nbformat": 2,
  "kernelspec": {
   "name": "python381jvsc74a57bd0e7cd2087b0006148a812477e86ff96270bc89a5f151ed72c31caea120b917c7b",
   "display_name": "Python 3.8.1 64-bit ('venv')"
  }
 },
 "nbformat": 4,
 "nbformat_minor": 2,
 "cells": [
  {
   "cell_type": "code",
   "execution_count": 1,
   "metadata": {},
   "outputs": [],
   "source": [
    "import pandas\n",
    "from pandas import DataFrame\n",
    "path = r'E:\\macro\\retro_press_yamb\\Для расчета давлений.xlsx'\n",
    "well_file_path = r'E:\\macro\\retro_press_yamb\\Объекты на 01.01.2021.xlsx'\n",
    "ex_file = pandas.ExcelFile(path, engine='openpyxl' )\n",
    "base_product:DataFrame = ex_file.parse(1)\n",
    "base_presure:DataFrame = ex_file.parse(0)\n",
    "ex_file_wells = pandas.ExcelFile(well_file_path)\n",
    "wells_file_data = ex_file_wells.parse(0)\n",
    "wells_coding = ex_file_wells.parse(1)\n"
   ]
  },
  {
   "cell_type": "code",
   "execution_count": 23,
   "metadata": {
    "tags": []
   },
   "outputs": [
    {
     "output_type": "stream",
     "name": "stdout",
     "text": [
      "413\n"
     ]
    }
   ],
   "source": [
    "from typing import List, Dict, Tuple\n",
    "coding_plast = {\n",
    "    '1': 1,\n",
    "    '1': 1,\n",
    "    '2': 1,\n",
    "    '3': 1,\n",
    "    '4': 1,\n",
    "    '5': 2,\n",
    "    '6': 2,\n",
    "    '7': 2,\n",
    "    '8': 2,\n",
    "    '9': 2,\n",
    "    '10':2,\n",
    "    '11':2,\n",
    "    '12':2,\n",
    "    '13':2,\n",
    "    '13':2,\n",
    "    '13':2,\n",
    "    '14':2,\n",
    "    '14':2,\n",
    "    '15':2,\n",
    "    '15':2,\n",
    "    '16':2,\n",
    "    '17':2,\n",
    "    '18':2,\n",
    "    '19':2,\n",
    "    '20':2,\n",
    "}\n",
    "import numpy as np\n",
    "import datetime\n",
    "dates_line:List[datetime.datetime] = list(wells_file_data.columns)[1:]\n",
    "class Well:\n",
    "    _req = {}\n",
    "    def __init__(self, name, plasts:List[str]):\n",
    "        self.name = name\n",
    "        self.obj = []\n",
    "        for plast_text in plasts:\n",
    "            if type(plast_text) == str:\n",
    "                self.obj.append(set([ coding_plast[idx_plast] for idx_plast in plast_text.split(',')]))\n",
    "            else:\n",
    "                self.obj.append(None)\n",
    "        self.dic_obj_by_date = {\n",
    "            date:obj\n",
    "        for date, obj in zip(dates_line, self.obj)}\n",
    "        Well._req[str(self.name)] = self\n",
    "    def __repr__(self):\n",
    "        return f'w:{self.name}'\n",
    "print(len(dates_line))\n",
    "idx_tst = 500\n",
    "import math\n",
    "for idx in wells_file_data.index:\n",
    "    line = list(wells_file_data.loc[idx,:].iloc[:])\n",
    "    Well(line[0], line[1:])\n",
    "for well_name in list(Well._req.keys())[:1]:\n",
    "    well = Well._req[well_name]\n",
    "    \n",
    "\n",
    "    \n"
   ]
  },
  {
   "cell_type": "code",
   "execution_count": 3,
   "metadata": {
    "tags": []
   },
   "outputs": [
    {
     "output_type": "stream",
     "name": "stdout",
     "text": [
      "done 12759\n"
     ]
    }
   ],
   "source": [
    "import math\n",
    "class Gdi:\n",
    "    _req = {}\n",
    "    def __init__(self,w_name:str, date:datetime.datetime, press_MPa:float):\n",
    "        self.w_name = w_name\n",
    "        self.date = date\n",
    "        self.press_MPa = press_MPa\n",
    "        Gdi._req[self.date,str(w_name)] = self\n",
    "    def __repr__(self):\n",
    "        return f'gdi:{self.w_name}'\n",
    "\n",
    "for idx in base_presure.index:\n",
    "    line = list(base_presure.loc[idx,:].iloc[:])\n",
    "    w_name = str(line[0])\n",
    "    date = line[1]\n",
    "    press= line[3] if line[3] == float('nan') else line[4]\n",
    "    Gdi(w_name, date, press)\n",
    "print('done', len(Gdi._req))"
   ]
  },
  {
   "cell_type": "code",
   "execution_count": null,
   "metadata": {},
   "outputs": [],
   "source": []
  },
  {
   "cell_type": "code",
   "execution_count": 15,
   "metadata": {},
   "outputs": [
    {
     "output_type": "stream",
     "name": "stdout",
     "text": [
      "done 85712\n"
     ]
    }
   ],
   "source": [
    "import math\n",
    "class Mer:\n",
    "    _req = {}\n",
    "    def __init__(self, w_name:str, obj:str, date:datetime.datetime, volume:float):\n",
    "        self.w_name = w_name\n",
    "        self.obj = obj\n",
    "        self.date = date\n",
    "        self.volume = volume\n",
    "        Mer._req[self.date, self.obj, str(w_name)] = self\n",
    "    def __repr__(self):\n",
    "        return f'mer:{self.w_name}'\n",
    "for idx in base_product.index[1:]:\n",
    "    line = list(base_product.loc[idx,:].iloc[:])\n",
    "    w_name = line[0]\n",
    "    obj = None if math.isnan(float(line[1])) else str(line[1])\n",
    "    date_str = line[5]\n",
    "    if type(date_str) == str:\n",
    "        date_str_split = date_str.split('.')\n",
    "        date_str_split.reverse()\n",
    "        \n",
    "    date = date_str if type(date_str) is datetime.datetime else datetime.datetime(*[int(f) for f in date_str_split])\n",
    "    volume = line[8]\n",
    "    Mer(w_name, obj, date, volume)\n",
    "print('done', len(Mer._req))"
   ]
  },
  {
   "cell_type": "code",
   "execution_count": 31,
   "metadata": {
    "tags": []
   },
   "outputs": [
    {
     "output_type": "error",
     "ename": "TypeError",
     "evalue": "argument of type 'NoneType' is not iterable",
     "traceback": [
      "\u001b[1;31m---------------------------------------------------------------------------\u001b[0m",
      "\u001b[1;31mTypeError\u001b[0m                                 Traceback (most recent call last)",
      "\u001b[1;32m<ipython-input-31-ec4d4ffcb7f6>\u001b[0m in \u001b[0;36m<module>\u001b[1;34m\u001b[0m\n\u001b[0;32m      6\u001b[0m \u001b[1;32mfor\u001b[0m \u001b[0mobj\u001b[0m \u001b[1;32min\u001b[0m \u001b[1;33m[\u001b[0m\u001b[1;32mNone\u001b[0m\u001b[1;33m,\u001b[0m \u001b[1;36m1\u001b[0m\u001b[1;33m,\u001b[0m \u001b[1;36m2\u001b[0m\u001b[1;33m]\u001b[0m\u001b[1;33m:\u001b[0m\u001b[1;33m\u001b[0m\u001b[1;33m\u001b[0m\u001b[0m\n\u001b[0;32m      7\u001b[0m     \u001b[1;32mfor\u001b[0m \u001b[0mdate\u001b[0m \u001b[1;32min\u001b[0m \u001b[0mall_dates\u001b[0m\u001b[1;33m:\u001b[0m\u001b[1;33m\u001b[0m\u001b[1;33m\u001b[0m\u001b[0m\n\u001b[1;32m----> 8\u001b[1;33m         \u001b[0mprint\u001b[0m\u001b[1;33m(\u001b[0m\u001b[0mlist\u001b[0m\u001b[1;33m(\u001b[0m\u001b[0mget_well_list_by_obj_and_date\u001b[0m\u001b[1;33m(\u001b[0m\u001b[0mobj\u001b[0m\u001b[1;33m,\u001b[0m \u001b[0mdate\u001b[0m\u001b[1;33m)\u001b[0m\u001b[1;33m)\u001b[0m\u001b[1;33m)\u001b[0m\u001b[1;33m\u001b[0m\u001b[1;33m\u001b[0m\u001b[0m\n\u001b[0m",
      "\u001b[1;32m<ipython-input-31-ec4d4ffcb7f6>\u001b[0m in \u001b[0;36m<lambda>\u001b[1;34m(w_name)\u001b[0m\n\u001b[0;32m      3\u001b[0m \u001b[0mall_dates\u001b[0m \u001b[1;33m=\u001b[0m \u001b[0mset\u001b[0m\u001b[1;33m(\u001b[0m\u001b[1;33m[\u001b[0m\u001b[0mkey\u001b[0m\u001b[1;33m[\u001b[0m\u001b[1;36m0\u001b[0m\u001b[1;33m]\u001b[0m \u001b[1;32mfor\u001b[0m \u001b[0mkey\u001b[0m \u001b[1;32min\u001b[0m \u001b[0mMer\u001b[0m\u001b[1;33m.\u001b[0m\u001b[0m_req\u001b[0m\u001b[1;33m]\u001b[0m\u001b[1;33m)\u001b[0m\u001b[1;33m\u001b[0m\u001b[1;33m\u001b[0m\u001b[0m\n\u001b[0;32m      4\u001b[0m \u001b[1;32mdef\u001b[0m \u001b[0mget_well_list_by_obj_and_date\u001b[0m\u001b[1;33m(\u001b[0m\u001b[0mobj\u001b[0m\u001b[1;33m:\u001b[0m\u001b[0mint\u001b[0m\u001b[1;33m,\u001b[0m \u001b[0mdate\u001b[0m\u001b[1;33m:\u001b[0m\u001b[0mdatetime\u001b[0m\u001b[1;33m.\u001b[0m\u001b[0mdatetime\u001b[0m\u001b[1;33m)\u001b[0m\u001b[1;33m:\u001b[0m\u001b[1;33m\u001b[0m\u001b[1;33m\u001b[0m\u001b[0m\n\u001b[1;32m----> 5\u001b[1;33m     \u001b[1;32mreturn\u001b[0m \u001b[0mfilter\u001b[0m\u001b[1;33m(\u001b[0m\u001b[1;32mlambda\u001b[0m \u001b[0mw_name\u001b[0m\u001b[1;33m:\u001b[0m\u001b[0mobj\u001b[0m \u001b[1;32min\u001b[0m \u001b[0mWell\u001b[0m\u001b[1;33m.\u001b[0m\u001b[0m_req\u001b[0m\u001b[1;33m[\u001b[0m\u001b[0mw_name\u001b[0m\u001b[1;33m]\u001b[0m\u001b[1;33m.\u001b[0m\u001b[0mdic_obj_by_date\u001b[0m\u001b[1;33m[\u001b[0m\u001b[0mdate\u001b[0m\u001b[1;33m]\u001b[0m\u001b[1;33m,\u001b[0m \u001b[0mWell\u001b[0m\u001b[1;33m.\u001b[0m\u001b[0m_req\u001b[0m\u001b[1;33m)\u001b[0m\u001b[1;33m\u001b[0m\u001b[1;33m\u001b[0m\u001b[0m\n\u001b[0m\u001b[0;32m      6\u001b[0m \u001b[1;32mfor\u001b[0m \u001b[0mobj\u001b[0m \u001b[1;32min\u001b[0m \u001b[1;33m[\u001b[0m\u001b[1;32mNone\u001b[0m\u001b[1;33m,\u001b[0m \u001b[1;36m1\u001b[0m\u001b[1;33m,\u001b[0m \u001b[1;36m2\u001b[0m\u001b[1;33m]\u001b[0m\u001b[1;33m:\u001b[0m\u001b[1;33m\u001b[0m\u001b[1;33m\u001b[0m\u001b[0m\n\u001b[0;32m      7\u001b[0m     \u001b[1;32mfor\u001b[0m \u001b[0mdate\u001b[0m \u001b[1;32min\u001b[0m \u001b[0mall_dates\u001b[0m\u001b[1;33m:\u001b[0m\u001b[1;33m\u001b[0m\u001b[1;33m\u001b[0m\u001b[0m\n",
      "\u001b[1;31mTypeError\u001b[0m: argument of type 'NoneType' is not iterable"
     ]
    }
   ],
   "source": [
    "from itertools import groupby\n",
    "#groupby(iterable: Iterable[_T], key: None=...) -> Iterator[Tuple[_T, Iterator[_T]]]\n",
    "all_dates = set([key[0] for key in Mer._req])\n",
    "def get_well_list_by_obj_and_date(obj:int, date:datetime.datetime):\n",
    "    return filter(lambda w_name:obj in Well._req[w_name].dic_obj_by_date[date], Well._req)\n",
    "for obj in [None, 1, 2]:\n",
    "    for date in all_dates:\n",
    "        print(list(get_well_list_by_obj_and_date(obj, date)))"
   ]
  },
  {
   "cell_type": "code",
   "execution_count": null,
   "metadata": {},
   "outputs": [],
   "source": []
  }
 ]
}